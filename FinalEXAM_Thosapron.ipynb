{
 "cells": [
  {
   "cell_type": "code",
   "execution_count": null,
   "metadata": {},
   "outputs": [],
   "source": [
    "import numpy as np\n",
    "import cv2\n",
    "import os"
   ]
  },
  {
   "cell_type": "code",
   "execution_count": null,
   "metadata": {},
   "outputs": [],
   "source": [
    "def downsampling_image(image, reduction_scale) :\n",
    "    for i in range(0, reduction_scale) :\n",
    "        if len(image.shape) > 2:\n",
    "            row, col = image.shape[:2]\n",
    "        else :\n",
    "            row, col = image.shape\n",
    "        \n",
    "        image = cv2.pyrDown(image,dstsize=(col//2,row//2))\n",
    "    return image"
   ]
  },
  {
   "cell_type": "code",
   "execution_count": null,
   "metadata": {},
   "outputs": [],
   "source": [
    "def smoothing(img):\n",
    "    img = cv2.GaussianBlur(img,(9,9),cv2.BORDER_DEFAULT)\n",
    "    return (img)"
   ]
  },
  {
   "cell_type": "code",
   "execution_count": null,
   "metadata": {},
   "outputs": [],
   "source": [
    "def sharpening(frame):\n",
    "    kernel = np.array([ [0, 0, 0],\n",
    "                        [0, 2, 0],\n",
    "                        [0, 0, 0] ])\n",
    "    frame = cv2.filter2D(frame, -1, kernel)\n",
    "    return (frame)"
   ]
  },
  {
   "cell_type": "code",
   "execution_count": null,
   "metadata": {},
   "outputs": [],
   "source": [
    "def preprocessing(img):\n",
    "    img_gray = cv2.cvtColor(img, cv2.COLOR_BGR2GRAY)\n",
    "    return (img, img_gray)"
   ]
  },
  {
   "cell_type": "code",
   "execution_count": null,
   "metadata": {},
   "outputs": [],
   "source": [
    "params_dir = os.getcwd()+'/camera_params/'  \n",
    "print(params_dir)\n",
    "\n",
    "ret = np.load(params_dir+'ret.npy')\n",
    "K = np.load(params_dir+'K.npy')\n",
    "dist = np.load(params_dir+'dist.npy')\n",
    "focal_length = (K[0,0] + K[1,1])/2\n",
    "\n",
    "print(K)"
   ]
  },
  {
   "cell_type": "code",
   "execution_count": null,
   "metadata": {},
   "outputs": [],
   "source": [
    "win_size = 5\n",
    "min_disparity = -1\n",
    "max_disparity = 63\n",
    "num_disparity = max_disparity - min_disparity "
   ]
  },
  {
   "cell_type": "code",
   "execution_count": null,
   "metadata": {},
   "outputs": [],
   "source": [
    "stereo = cv2.StereoSGBM_create(\n",
    "    minDisparity = min_disparity, \n",
    "    numDisparities = num_disparity,\n",
    "    blockSize = 20,\n",
    "    uniquenessRatio = 1,\n",
    "    speckleWindowSize = 20,\n",
    "    speckleRange = 5,\n",
    "    disp12MaxDiff = 2,\n",
    "    P1 = 8*3*win_size**2,\n",
    "    P2 = 32*3*win_size**2\n",
    "    )"
   ]
  },
  {
   "cell_type": "code",
   "execution_count": null,
   "metadata": {},
   "outputs": [],
   "source": [
    "template_list = list()\n",
    "template_gray_list = list()\n",
    "\n",
    "for i in range(1,5):\n",
    "    template = cv2.imread('./images/final_exam/Templates/Template-{}.png'.format(i))\n",
    "    template = smoothing(template)\n",
    "    template, template_gray = preprocessing(template)\n",
    "    template_list.append(template)\n",
    "    template_gray_list.append(template_gray)"
   ]
  },
  {
   "cell_type": "code",
   "execution_count": null,
   "metadata": {},
   "outputs": [],
   "source": [
    "sift = cv2.SIFT_create()\n",
    "bf = cv2.BFMatcher()"
   ]
  },
  {
   "cell_type": "code",
   "execution_count": null,
   "metadata": {},
   "outputs": [],
   "source": [
    "left_cap = cv2.VideoCapture('./videos/final_exam/Dataset-1/left_output-1.avi')\n",
    "right_cap = cv2.VideoCapture('./videos/final_exam/Dataset-1/right_output-1.avi')\n",
    "\n",
    "ret ,left_img = left_cap.read()\n",
    "ret ,right_img = right_cap.read() \n",
    "\n",
    "h, w = left_img.shape[:2]\n",
    "\n",
    "new_camera_matrix, roi = cv2.getOptimalNewCameraMatrix(K, dist, (w,h),1, (w,h))\n",
    "\n",
    "while (left_cap.isOpened() and right_cap.isOpened() ) :\n",
    "    \n",
    "    ret_left, left_img = left_cap.read()\n",
    "    ret_right, right_img = right_cap.read()\n",
    "    \n",
    "    if ret_left and ret_right:\n",
    "        \n",
    "        left_img_gray = cv2.cvtColor(left_img, cv2.COLOR_BGR2GRAY)\n",
    "        right_img_gray = cv2.cvtColor(right_img, cv2.COLOR_BGR2GRAY)\n",
    "\n",
    "        left_img_undistorted = cv2.undistort(left_img_gray, K, dist, None, new_camera_matrix)\n",
    "        right_img_undistorted = cv2.undistort(right_img_gray, K, dist, None, new_camera_matrix)\n",
    "        \n",
    "        left_img_down = downsampling_image(left_img_undistorted,1)\n",
    "        right_img_down = downsampling_image(right_img_undistorted,1)\n",
    "        \n",
    "        disparity_map = stereo.compute(left_img_down, right_img_down)\n",
    "        norm_disp = cv2.normalize(disparity_map, None , alpha=0, beta=255, norm_type=cv2.NORM_MINMAX, dtype=cv2.CV_8U)\n",
    "\n",
    "        row, col = norm_disp.shape[:2]\n",
    "        norm_disp = cv2.pyrUp(norm_disp,dstsize=(col*2, row*2))\n",
    "        dist_hsv = cv2.applyColorMap(norm_disp,cv2.COLORMAP_JET)\n",
    "\n",
    "        z = focal_length/disparity_map\n",
    "        z = cv2.resize(z, (left_img.shape[1],left_img.shape[0]))\n",
    "\n",
    "        # cv2.imshow('Disparity', dist_hsv)\n",
    "        # cv2.imshow('Z', z)\n",
    "\n",
    "        sharpened = sharpening(left_img)\n",
    "        query_frame, frame_gray = preprocessing(sharpened)\n",
    "        frame_kpts, frame_desc = sift.detectAndCompute(frame_gray, None)\n",
    "\n",
    "        template_kpts = list()\n",
    "        matches_list = list()\n",
    "        good_matches = list()\n",
    "        good_matches_list = list()\n",
    "\n",
    "        for template_gray in template_gray_list:\n",
    "            img_kpts, img_desc = sift.detectAndCompute(template_gray, None)\n",
    "\n",
    "            matches = bf.knnMatch(img_desc, frame_desc, k=2)\n",
    "            \n",
    "            Good_matches = list()\n",
    "            Good_matches_list = list()\n",
    "\n",
    "            for m, n in matches :\n",
    "                if m.distance < 0.65*n.distance:\n",
    "                    Good_matches.append(m)\n",
    "                    Good_matches_list.append([m])\n",
    "            \n",
    "            template_kpts.append(img_kpts)\n",
    "            matches_list.append(len(Good_matches))\n",
    "            good_matches.append(Good_matches)\n",
    "            good_matches_list.append(Good_matches_list)\n",
    "\n",
    "            index = matches_list.index(max(matches_list))\n",
    "\n",
    "        MIN_MATCH_NUMBER = 10\n",
    "\n",
    "        if len(good_matches[index]) > MIN_MATCH_NUMBER:\n",
    "            tp = np.float32([ template_kpts[index][m.queryIdx].pt for m in good_matches[index] ]).reshape(-1,1,2)\n",
    "            fp = np.float32([ frame_kpts[m.trainIdx].pt for m in good_matches[index] ]).reshape(-1,1,2)\n",
    "\n",
    "            H, inlier_masks = cv2.findHomography(tp, fp, cv2.RANSAC)\n",
    "\n",
    "            h, w = template_list[index].shape[:2]\n",
    "            template_point = np.float32([[0,0], [0,h-1], [w-1,h-1], [w-1,0]]).reshape(-1,1,2)\n",
    "            \n",
    "            dst_point = cv2.perspectiveTransform(template_point, H)\n",
    "            \n",
    "            cX = ((dst_point[0,0][0]+ dst_point[2,0][0])/2).astype(int)\n",
    "            cY = ((dst_point[0,0][1]+ dst_point[2,0][1])/2).astype(int)\n",
    "\n",
    "            cv2.polylines(left_img, [np.int32(dst_point)], True, (0,0,255), 3, cv2.LINE_AA)\n",
    "\n",
    "            X = (cX*z[cY, cX])/focal_length\n",
    "            Y = (cY*z[cY, cX])/focal_length\n",
    "            Z = z[cY, cX]\n",
    "\n",
    "            text = 'X:{:.1f} Y:{:.1f} Z:{:.1f}'.format(X-0.5, Y-0.5, Z)\n",
    "            cv2.putText(left_img, text, [cX, cY], cv2.FONT_HERSHEY_COMPLEX, 0.75, (0,255,0), 2)\n",
    "\n",
    "            cv2.imshow('detected frame', left_img)\n",
    "        else:\n",
    "            cv2.imshow('detected frame', left_img) \n",
    "        \n",
    "        key = cv2.waitKey(33) & 0xFF\n",
    "        if key == 27 or key == ord('q') :\n",
    "            break\n",
    "    else:\n",
    "        break\n",
    "\n",
    "left_cap.release()\n",
    "right_cap.release()\n",
    "cv2.destroyAllWindows()"
   ]
  }
 ],
 "metadata": {
  "interpreter": {
   "hash": "bc5fe6d5ed7fff5f20ee8bd164be1682e62e95bf86942042ef2de890c3e8dfc0"
  },
  "kernelspec": {
   "display_name": "Python 3.9.7 64-bit",
   "language": "python",
   "name": "python3"
  },
  "language_info": {
   "codemirror_mode": {
    "name": "ipython",
    "version": 3
   },
   "file_extension": ".py",
   "mimetype": "text/x-python",
   "name": "python",
   "nbconvert_exporter": "python",
   "pygments_lexer": "ipython3",
   "version": "3.6.8"
  },
  "orig_nbformat": 4
 },
 "nbformat": 4,
 "nbformat_minor": 2
}
